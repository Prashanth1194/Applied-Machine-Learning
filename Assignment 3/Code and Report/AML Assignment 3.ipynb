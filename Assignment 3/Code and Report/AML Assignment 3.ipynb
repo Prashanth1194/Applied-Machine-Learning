{
 "cells": [
  {
   "cell_type": "markdown",
   "metadata": {},
   "source": [
    "### Loading the libraries"
   ]
  },
  {
   "cell_type": "code",
   "execution_count": 93,
   "metadata": {},
   "outputs": [],
   "source": [
    "import pandas as pd\n",
    "import numpy as np\n",
    "from sklearn.model_selection import train_test_split\n",
    "from sklearn.model_selection import StratifiedKFold\n",
    "from sklearn.metrics import roc_auc_score\n",
    "from sklearn.linear_model import LogisticRegression\n",
    "from sklearn import metrics\n",
    "from sklearn.metrics import f1_score\n",
    "from sklearn.ensemble import RandomForestClassifier,GradientBoostingClassifier\n",
    "from sklearn.metrics import accuracy_score\n",
    "import xgboost as xgb\n",
    "import seaborn as sns\n",
    "import matplotlib.pyplot as plt\n",
    "import matplotlib.gridspec as gridspec\n",
    "from statsmodels.regression.linear_model import OLS\n",
    "from statsmodels.tools.tools import add_constant\n",
    "from sklearn.neighbors import KNeighborsClassifier\n",
    "from sklearn.model_selection import GridSearchCV\n",
    "from sklearn.preprocessing import PolynomialFeatures\n",
    "import warnings\n",
    "warnings.filterwarnings('ignore')\n",
    "\n",
    "%matplotlib inline"
   ]
  },
  {
   "cell_type": "markdown",
   "metadata": {},
   "source": [
    "### Reading the train and test data"
   ]
  },
  {
   "cell_type": "code",
   "execution_count": 94,
   "metadata": {},
   "outputs": [],
   "source": [
    "x_train = pd.read_table('a3-train.data', delim_whitespace=True,header=-1)\n",
    "y_train = pd.read_table('a3-train.labels.txt', delim_whitespace=True,header=-1)\n",
    "\n",
    "x_test = pd.read_table('a3-test.data', delim_whitespace=True,header=-1)\n",
    "y_test = pd.read_table('a3-test.labels.txt', delim_whitespace=True,header=-1)"
   ]
  },
  {
   "cell_type": "markdown",
   "metadata": {},
   "source": [
    "## Exploratory Data Analysis Starts here :"
   ]
  },
  {
   "cell_type": "markdown",
   "metadata": {},
   "source": [
    "### Verifying the shape of the datasets"
   ]
  },
  {
   "cell_type": "code",
   "execution_count": 95,
   "metadata": {},
   "outputs": [
    {
     "name": "stdout",
     "output_type": "stream",
     "text": [
      "(2000, 500)\n",
      "(2000, 1)\n",
      "(600, 500)\n",
      "(600, 1)\n"
     ]
    }
   ],
   "source": [
    "print(x_train.shape)\n",
    "print(y_train.shape)\n",
    "print(x_test.shape)\n",
    "print(y_test.shape)"
   ]
  },
  {
   "cell_type": "markdown",
   "metadata": {},
   "source": [
    "### Sneak Peek at the datasets"
   ]
  },
  {
   "cell_type": "code",
   "execution_count": 96,
   "metadata": {
    "scrolled": true
   },
   "outputs": [
    {
     "name": "stdout",
     "output_type": "stream",
     "text": [
      "   0    1    2    3    4    5    6    7    8    9   ...   490  491  492  493  \\\n",
      "0  485  477  537  479  452  471  491  476  475  473 ...   477  481  477  485   \n",
      "1  483  458  460  487  587  475  526  479  485  469 ...   463  478  487  338   \n",
      "2  487  542  499  468  448  471  442  478  480  477 ...   487  481  492  650   \n",
      "3  480  491  510  485  495  472  417  474  502  476 ...   491  480  474  572   \n",
      "4  484  502  528  489  466  481  402  478  487  468 ...   488  479  452  435   \n",
      "\n",
      "   494  495  496  497  498  499  \n",
      "0  511  485  481  479  475  496  \n",
      "1  513  486  483  492  510  517  \n",
      "2  506  501  480  489  499  498  \n",
      "3  454  469  475  482  494  461  \n",
      "4  486  508  481  504  495  511  \n",
      "\n",
      "[5 rows x 500 columns]\n",
      "   0\n",
      "0 -1\n",
      "1 -1\n",
      "2 -1\n",
      "3  1\n",
      "4  1\n",
      "   0    1    2    3    4    5    6    7    8    9   ...   490  491  492  493  \\\n",
      "0  483  454  513  495  523  469  453  477  506  479 ...   455  480  543  259   \n",
      "1  485  508  493  487  478  472  504  476  479  475 ...   486  480  535  534   \n",
      "2  483  521  507  475  493  486  421  475  496  483 ...   491  476  498  495   \n",
      "3  474  504  576  480  553  483  524  478  483  483 ...   521  475  470  463   \n",
      "4  495  474  523  479  495  488  485  476  497  478 ...   510  471  522  343   \n",
      "\n",
      "   494  495  496  497  498  499  \n",
      "0  413  520  485  498  523  510  \n",
      "1  514  452  484  495  548  477  \n",
      "2  508  528  486  465  508  503  \n",
      "3  509  525  479  467  552  517  \n",
      "4  509  520  475  493  506  491  \n",
      "\n",
      "[5 rows x 500 columns]\n",
      "   0\n",
      "0 -1\n",
      "1 -1\n",
      "2 -1\n",
      "3  1\n",
      "4 -1\n"
     ]
    }
   ],
   "source": [
    "print(x_train.head())\n",
    "print(y_train.head())\n",
    "print(x_test.head())\n",
    "print(y_test.head())"
   ]
  },
  {
   "cell_type": "markdown",
   "metadata": {},
   "source": [
    "### Let's first check at the summary statistics of the train and the test data"
   ]
  },
  {
   "cell_type": "code",
   "execution_count": 97,
   "metadata": {},
   "outputs": [
    {
     "data": {
      "text/html": [
       "<div>\n",
       "<style scoped>\n",
       "    .dataframe tbody tr th:only-of-type {\n",
       "        vertical-align: middle;\n",
       "    }\n",
       "\n",
       "    .dataframe tbody tr th {\n",
       "        vertical-align: top;\n",
       "    }\n",
       "\n",
       "    .dataframe thead th {\n",
       "        text-align: right;\n",
       "    }\n",
       "</style>\n",
       "<table border=\"1\" class=\"dataframe\">\n",
       "  <thead>\n",
       "    <tr style=\"text-align: right;\">\n",
       "      <th></th>\n",
       "      <th>0</th>\n",
       "      <th>1</th>\n",
       "      <th>2</th>\n",
       "      <th>3</th>\n",
       "      <th>4</th>\n",
       "      <th>5</th>\n",
       "      <th>6</th>\n",
       "      <th>7</th>\n",
       "      <th>8</th>\n",
       "      <th>9</th>\n",
       "      <th>...</th>\n",
       "      <th>490</th>\n",
       "      <th>491</th>\n",
       "      <th>492</th>\n",
       "      <th>493</th>\n",
       "      <th>494</th>\n",
       "      <th>495</th>\n",
       "      <th>496</th>\n",
       "      <th>497</th>\n",
       "      <th>498</th>\n",
       "      <th>499</th>\n",
       "    </tr>\n",
       "  </thead>\n",
       "  <tbody>\n",
       "    <tr>\n",
       "      <th>count</th>\n",
       "      <td>2000.000000</td>\n",
       "      <td>2000.000000</td>\n",
       "      <td>2000.000000</td>\n",
       "      <td>2000.000000</td>\n",
       "      <td>2000.000000</td>\n",
       "      <td>2000.000000</td>\n",
       "      <td>2000.000000</td>\n",
       "      <td>2000.000000</td>\n",
       "      <td>2000.000000</td>\n",
       "      <td>2000.00000</td>\n",
       "      <td>...</td>\n",
       "      <td>2000.000000</td>\n",
       "      <td>2000.000000</td>\n",
       "      <td>2000.000000</td>\n",
       "      <td>2000.000000</td>\n",
       "      <td>2000.00000</td>\n",
       "      <td>2000.000000</td>\n",
       "      <td>2000.000000</td>\n",
       "      <td>2000.000000</td>\n",
       "      <td>2000.000000</td>\n",
       "      <td>2000.000000</td>\n",
       "    </tr>\n",
       "    <tr>\n",
       "      <th>mean</th>\n",
       "      <td>481.722500</td>\n",
       "      <td>483.452500</td>\n",
       "      <td>510.166000</td>\n",
       "      <td>483.384500</td>\n",
       "      <td>501.612500</td>\n",
       "      <td>479.259000</td>\n",
       "      <td>480.109500</td>\n",
       "      <td>476.565000</td>\n",
       "      <td>486.793500</td>\n",
       "      <td>478.78900</td>\n",
       "      <td>...</td>\n",
       "      <td>482.458500</td>\n",
       "      <td>478.811500</td>\n",
       "      <td>486.356500</td>\n",
       "      <td>496.565500</td>\n",
       "      <td>493.49950</td>\n",
       "      <td>510.893000</td>\n",
       "      <td>478.219500</td>\n",
       "      <td>483.309000</td>\n",
       "      <td>507.977000</td>\n",
       "      <td>490.266000</td>\n",
       "    </tr>\n",
       "    <tr>\n",
       "      <th>std</th>\n",
       "      <td>6.421769</td>\n",
       "      <td>30.186294</td>\n",
       "      <td>38.899165</td>\n",
       "      <td>9.059895</td>\n",
       "      <td>41.389418</td>\n",
       "      <td>6.795956</td>\n",
       "      <td>40.575925</td>\n",
       "      <td>1.384461</td>\n",
       "      <td>15.043836</td>\n",
       "      <td>7.19092</td>\n",
       "      <td>...</td>\n",
       "      <td>20.890033</td>\n",
       "      <td>4.011735</td>\n",
       "      <td>23.967366</td>\n",
       "      <td>127.635442</td>\n",
       "      <td>34.81902</td>\n",
       "      <td>37.459353</td>\n",
       "      <td>5.880613</td>\n",
       "      <td>13.559847</td>\n",
       "      <td>37.224297</td>\n",
       "      <td>25.825273</td>\n",
       "    </tr>\n",
       "    <tr>\n",
       "      <th>min</th>\n",
       "      <td>462.000000</td>\n",
       "      <td>381.000000</td>\n",
       "      <td>370.000000</td>\n",
       "      <td>453.000000</td>\n",
       "      <td>371.000000</td>\n",
       "      <td>459.000000</td>\n",
       "      <td>334.000000</td>\n",
       "      <td>471.000000</td>\n",
       "      <td>430.000000</td>\n",
       "      <td>455.00000</td>\n",
       "      <td>...</td>\n",
       "      <td>407.000000</td>\n",
       "      <td>463.000000</td>\n",
       "      <td>391.000000</td>\n",
       "      <td>130.000000</td>\n",
       "      <td>368.00000</td>\n",
       "      <td>398.000000</td>\n",
       "      <td>457.000000</td>\n",
       "      <td>435.000000</td>\n",
       "      <td>363.000000</td>\n",
       "      <td>403.000000</td>\n",
       "    </tr>\n",
       "    <tr>\n",
       "      <th>25%</th>\n",
       "      <td>477.000000</td>\n",
       "      <td>464.000000</td>\n",
       "      <td>485.000000</td>\n",
       "      <td>477.000000</td>\n",
       "      <td>475.000000</td>\n",
       "      <td>475.000000</td>\n",
       "      <td>452.750000</td>\n",
       "      <td>476.000000</td>\n",
       "      <td>477.000000</td>\n",
       "      <td>474.00000</td>\n",
       "      <td>...</td>\n",
       "      <td>468.000000</td>\n",
       "      <td>476.000000</td>\n",
       "      <td>471.000000</td>\n",
       "      <td>404.000000</td>\n",
       "      <td>470.00000</td>\n",
       "      <td>486.000000</td>\n",
       "      <td>474.000000</td>\n",
       "      <td>474.000000</td>\n",
       "      <td>482.000000</td>\n",
       "      <td>473.000000</td>\n",
       "    </tr>\n",
       "    <tr>\n",
       "      <th>50%</th>\n",
       "      <td>482.000000</td>\n",
       "      <td>483.000000</td>\n",
       "      <td>510.500000</td>\n",
       "      <td>483.000000</td>\n",
       "      <td>500.000000</td>\n",
       "      <td>479.000000</td>\n",
       "      <td>480.000000</td>\n",
       "      <td>477.000000</td>\n",
       "      <td>487.000000</td>\n",
       "      <td>479.00000</td>\n",
       "      <td>...</td>\n",
       "      <td>482.000000</td>\n",
       "      <td>479.000000</td>\n",
       "      <td>486.000000</td>\n",
       "      <td>504.000000</td>\n",
       "      <td>492.00000</td>\n",
       "      <td>511.000000</td>\n",
       "      <td>478.000000</td>\n",
       "      <td>483.000000</td>\n",
       "      <td>508.000000</td>\n",
       "      <td>490.000000</td>\n",
       "    </tr>\n",
       "    <tr>\n",
       "      <th>75%</th>\n",
       "      <td>486.000000</td>\n",
       "      <td>503.000000</td>\n",
       "      <td>536.000000</td>\n",
       "      <td>490.000000</td>\n",
       "      <td>528.000000</td>\n",
       "      <td>484.000000</td>\n",
       "      <td>506.250000</td>\n",
       "      <td>477.000000</td>\n",
       "      <td>496.250000</td>\n",
       "      <td>484.00000</td>\n",
       "      <td>...</td>\n",
       "      <td>496.000000</td>\n",
       "      <td>481.000000</td>\n",
       "      <td>502.000000</td>\n",
       "      <td>586.000000</td>\n",
       "      <td>517.00000</td>\n",
       "      <td>535.000000</td>\n",
       "      <td>482.000000</td>\n",
       "      <td>492.000000</td>\n",
       "      <td>533.000000</td>\n",
       "      <td>507.250000</td>\n",
       "    </tr>\n",
       "    <tr>\n",
       "      <th>max</th>\n",
       "      <td>503.000000</td>\n",
       "      <td>600.000000</td>\n",
       "      <td>654.000000</td>\n",
       "      <td>519.000000</td>\n",
       "      <td>688.000000</td>\n",
       "      <td>505.000000</td>\n",
       "      <td>611.000000</td>\n",
       "      <td>481.000000</td>\n",
       "      <td>536.000000</td>\n",
       "      <td>503.00000</td>\n",
       "      <td>...</td>\n",
       "      <td>549.000000</td>\n",
       "      <td>497.000000</td>\n",
       "      <td>566.000000</td>\n",
       "      <td>920.000000</td>\n",
       "      <td>615.00000</td>\n",
       "      <td>661.000000</td>\n",
       "      <td>500.000000</td>\n",
       "      <td>535.000000</td>\n",
       "      <td>644.000000</td>\n",
       "      <td>583.000000</td>\n",
       "    </tr>\n",
       "  </tbody>\n",
       "</table>\n",
       "<p>8 rows × 500 columns</p>\n",
       "</div>"
      ],
      "text/plain": [
       "               0            1            2            3            4    \\\n",
       "count  2000.000000  2000.000000  2000.000000  2000.000000  2000.000000   \n",
       "mean    481.722500   483.452500   510.166000   483.384500   501.612500   \n",
       "std       6.421769    30.186294    38.899165     9.059895    41.389418   \n",
       "min     462.000000   381.000000   370.000000   453.000000   371.000000   \n",
       "25%     477.000000   464.000000   485.000000   477.000000   475.000000   \n",
       "50%     482.000000   483.000000   510.500000   483.000000   500.000000   \n",
       "75%     486.000000   503.000000   536.000000   490.000000   528.000000   \n",
       "max     503.000000   600.000000   654.000000   519.000000   688.000000   \n",
       "\n",
       "               5            6            7            8           9    \\\n",
       "count  2000.000000  2000.000000  2000.000000  2000.000000  2000.00000   \n",
       "mean    479.259000   480.109500   476.565000   486.793500   478.78900   \n",
       "std       6.795956    40.575925     1.384461    15.043836     7.19092   \n",
       "min     459.000000   334.000000   471.000000   430.000000   455.00000   \n",
       "25%     475.000000   452.750000   476.000000   477.000000   474.00000   \n",
       "50%     479.000000   480.000000   477.000000   487.000000   479.00000   \n",
       "75%     484.000000   506.250000   477.000000   496.250000   484.00000   \n",
       "max     505.000000   611.000000   481.000000   536.000000   503.00000   \n",
       "\n",
       "          ...               490          491          492          493  \\\n",
       "count     ...       2000.000000  2000.000000  2000.000000  2000.000000   \n",
       "mean      ...        482.458500   478.811500   486.356500   496.565500   \n",
       "std       ...         20.890033     4.011735    23.967366   127.635442   \n",
       "min       ...        407.000000   463.000000   391.000000   130.000000   \n",
       "25%       ...        468.000000   476.000000   471.000000   404.000000   \n",
       "50%       ...        482.000000   479.000000   486.000000   504.000000   \n",
       "75%       ...        496.000000   481.000000   502.000000   586.000000   \n",
       "max       ...        549.000000   497.000000   566.000000   920.000000   \n",
       "\n",
       "              494          495          496          497          498  \\\n",
       "count  2000.00000  2000.000000  2000.000000  2000.000000  2000.000000   \n",
       "mean    493.49950   510.893000   478.219500   483.309000   507.977000   \n",
       "std      34.81902    37.459353     5.880613    13.559847    37.224297   \n",
       "min     368.00000   398.000000   457.000000   435.000000   363.000000   \n",
       "25%     470.00000   486.000000   474.000000   474.000000   482.000000   \n",
       "50%     492.00000   511.000000   478.000000   483.000000   508.000000   \n",
       "75%     517.00000   535.000000   482.000000   492.000000   533.000000   \n",
       "max     615.00000   661.000000   500.000000   535.000000   644.000000   \n",
       "\n",
       "               499  \n",
       "count  2000.000000  \n",
       "mean    490.266000  \n",
       "std      25.825273  \n",
       "min     403.000000  \n",
       "25%     473.000000  \n",
       "50%     490.000000  \n",
       "75%     507.250000  \n",
       "max     583.000000  \n",
       "\n",
       "[8 rows x 500 columns]"
      ]
     },
     "execution_count": 97,
     "metadata": {},
     "output_type": "execute_result"
    }
   ],
   "source": [
    "x_train.describe()"
   ]
  },
  {
   "cell_type": "code",
   "execution_count": 98,
   "metadata": {},
   "outputs": [
    {
     "data": {
      "text/html": [
       "<div>\n",
       "<style scoped>\n",
       "    .dataframe tbody tr th:only-of-type {\n",
       "        vertical-align: middle;\n",
       "    }\n",
       "\n",
       "    .dataframe tbody tr th {\n",
       "        vertical-align: top;\n",
       "    }\n",
       "\n",
       "    .dataframe thead th {\n",
       "        text-align: right;\n",
       "    }\n",
       "</style>\n",
       "<table border=\"1\" class=\"dataframe\">\n",
       "  <thead>\n",
       "    <tr style=\"text-align: right;\">\n",
       "      <th></th>\n",
       "      <th>0</th>\n",
       "      <th>1</th>\n",
       "      <th>2</th>\n",
       "      <th>3</th>\n",
       "      <th>4</th>\n",
       "      <th>5</th>\n",
       "      <th>6</th>\n",
       "      <th>7</th>\n",
       "      <th>8</th>\n",
       "      <th>9</th>\n",
       "      <th>...</th>\n",
       "      <th>490</th>\n",
       "      <th>491</th>\n",
       "      <th>492</th>\n",
       "      <th>493</th>\n",
       "      <th>494</th>\n",
       "      <th>495</th>\n",
       "      <th>496</th>\n",
       "      <th>497</th>\n",
       "      <th>498</th>\n",
       "      <th>499</th>\n",
       "    </tr>\n",
       "  </thead>\n",
       "  <tbody>\n",
       "    <tr>\n",
       "      <th>count</th>\n",
       "      <td>600.000000</td>\n",
       "      <td>600.00000</td>\n",
       "      <td>600.000000</td>\n",
       "      <td>600.000000</td>\n",
       "      <td>600.000000</td>\n",
       "      <td>600.000000</td>\n",
       "      <td>600.000000</td>\n",
       "      <td>600.000000</td>\n",
       "      <td>600.000000</td>\n",
       "      <td>600.000000</td>\n",
       "      <td>...</td>\n",
       "      <td>600.000000</td>\n",
       "      <td>600.000000</td>\n",
       "      <td>600.000000</td>\n",
       "      <td>600.000000</td>\n",
       "      <td>600.00000</td>\n",
       "      <td>600.000000</td>\n",
       "      <td>600.000000</td>\n",
       "      <td>600.000000</td>\n",
       "      <td>600.000000</td>\n",
       "      <td>600.000000</td>\n",
       "    </tr>\n",
       "    <tr>\n",
       "      <th>mean</th>\n",
       "      <td>481.808333</td>\n",
       "      <td>483.88000</td>\n",
       "      <td>506.581667</td>\n",
       "      <td>483.298333</td>\n",
       "      <td>498.636667</td>\n",
       "      <td>479.661667</td>\n",
       "      <td>481.751667</td>\n",
       "      <td>476.585000</td>\n",
       "      <td>487.758333</td>\n",
       "      <td>478.865000</td>\n",
       "      <td>...</td>\n",
       "      <td>481.576667</td>\n",
       "      <td>478.776667</td>\n",
       "      <td>485.898333</td>\n",
       "      <td>501.631667</td>\n",
       "      <td>494.85500</td>\n",
       "      <td>510.193333</td>\n",
       "      <td>477.923333</td>\n",
       "      <td>482.651667</td>\n",
       "      <td>509.968333</td>\n",
       "      <td>491.661667</td>\n",
       "    </tr>\n",
       "    <tr>\n",
       "      <th>std</th>\n",
       "      <td>5.940293</td>\n",
       "      <td>30.86557</td>\n",
       "      <td>38.365434</td>\n",
       "      <td>8.549727</td>\n",
       "      <td>41.199762</td>\n",
       "      <td>7.220625</td>\n",
       "      <td>39.939478</td>\n",
       "      <td>1.416375</td>\n",
       "      <td>16.021373</td>\n",
       "      <td>7.692772</td>\n",
       "      <td>...</td>\n",
       "      <td>20.752314</td>\n",
       "      <td>4.114406</td>\n",
       "      <td>22.723452</td>\n",
       "      <td>126.882457</td>\n",
       "      <td>35.10643</td>\n",
       "      <td>38.522841</td>\n",
       "      <td>5.803182</td>\n",
       "      <td>13.765760</td>\n",
       "      <td>36.366351</td>\n",
       "      <td>26.255529</td>\n",
       "    </tr>\n",
       "    <tr>\n",
       "      <th>min</th>\n",
       "      <td>462.000000</td>\n",
       "      <td>377.00000</td>\n",
       "      <td>390.000000</td>\n",
       "      <td>458.000000</td>\n",
       "      <td>360.000000</td>\n",
       "      <td>460.000000</td>\n",
       "      <td>345.000000</td>\n",
       "      <td>471.000000</td>\n",
       "      <td>437.000000</td>\n",
       "      <td>456.000000</td>\n",
       "      <td>...</td>\n",
       "      <td>418.000000</td>\n",
       "      <td>465.000000</td>\n",
       "      <td>420.000000</td>\n",
       "      <td>103.000000</td>\n",
       "      <td>402.00000</td>\n",
       "      <td>353.000000</td>\n",
       "      <td>462.000000</td>\n",
       "      <td>443.000000</td>\n",
       "      <td>384.000000</td>\n",
       "      <td>427.000000</td>\n",
       "    </tr>\n",
       "    <tr>\n",
       "      <th>25%</th>\n",
       "      <td>478.000000</td>\n",
       "      <td>464.00000</td>\n",
       "      <td>481.000000</td>\n",
       "      <td>478.000000</td>\n",
       "      <td>470.000000</td>\n",
       "      <td>475.000000</td>\n",
       "      <td>453.000000</td>\n",
       "      <td>476.000000</td>\n",
       "      <td>477.750000</td>\n",
       "      <td>474.000000</td>\n",
       "      <td>...</td>\n",
       "      <td>467.750000</td>\n",
       "      <td>476.000000</td>\n",
       "      <td>471.000000</td>\n",
       "      <td>409.750000</td>\n",
       "      <td>471.00000</td>\n",
       "      <td>485.000000</td>\n",
       "      <td>474.000000</td>\n",
       "      <td>473.000000</td>\n",
       "      <td>485.000000</td>\n",
       "      <td>474.000000</td>\n",
       "    </tr>\n",
       "    <tr>\n",
       "      <th>50%</th>\n",
       "      <td>482.000000</td>\n",
       "      <td>485.00000</td>\n",
       "      <td>506.000000</td>\n",
       "      <td>483.000000</td>\n",
       "      <td>496.500000</td>\n",
       "      <td>480.000000</td>\n",
       "      <td>484.000000</td>\n",
       "      <td>477.000000</td>\n",
       "      <td>487.000000</td>\n",
       "      <td>478.000000</td>\n",
       "      <td>...</td>\n",
       "      <td>482.000000</td>\n",
       "      <td>479.000000</td>\n",
       "      <td>486.000000</td>\n",
       "      <td>510.000000</td>\n",
       "      <td>495.00000</td>\n",
       "      <td>508.500000</td>\n",
       "      <td>478.000000</td>\n",
       "      <td>482.000000</td>\n",
       "      <td>508.000000</td>\n",
       "      <td>492.000000</td>\n",
       "    </tr>\n",
       "    <tr>\n",
       "      <th>75%</th>\n",
       "      <td>486.000000</td>\n",
       "      <td>505.00000</td>\n",
       "      <td>533.000000</td>\n",
       "      <td>489.000000</td>\n",
       "      <td>525.000000</td>\n",
       "      <td>484.000000</td>\n",
       "      <td>508.000000</td>\n",
       "      <td>477.000000</td>\n",
       "      <td>497.000000</td>\n",
       "      <td>483.000000</td>\n",
       "      <td>...</td>\n",
       "      <td>495.000000</td>\n",
       "      <td>481.000000</td>\n",
       "      <td>501.000000</td>\n",
       "      <td>589.250000</td>\n",
       "      <td>517.00000</td>\n",
       "      <td>536.000000</td>\n",
       "      <td>482.000000</td>\n",
       "      <td>492.250000</td>\n",
       "      <td>533.000000</td>\n",
       "      <td>508.000000</td>\n",
       "    </tr>\n",
       "    <tr>\n",
       "      <th>max</th>\n",
       "      <td>500.000000</td>\n",
       "      <td>610.00000</td>\n",
       "      <td>619.000000</td>\n",
       "      <td>508.000000</td>\n",
       "      <td>618.000000</td>\n",
       "      <td>501.000000</td>\n",
       "      <td>606.000000</td>\n",
       "      <td>482.000000</td>\n",
       "      <td>547.000000</td>\n",
       "      <td>505.000000</td>\n",
       "      <td>...</td>\n",
       "      <td>540.000000</td>\n",
       "      <td>492.000000</td>\n",
       "      <td>571.000000</td>\n",
       "      <td>822.000000</td>\n",
       "      <td>614.00000</td>\n",
       "      <td>620.000000</td>\n",
       "      <td>494.000000</td>\n",
       "      <td>526.000000</td>\n",
       "      <td>621.000000</td>\n",
       "      <td>593.000000</td>\n",
       "    </tr>\n",
       "  </tbody>\n",
       "</table>\n",
       "<p>8 rows × 500 columns</p>\n",
       "</div>"
      ],
      "text/plain": [
       "              0          1           2           3           4           5    \\\n",
       "count  600.000000  600.00000  600.000000  600.000000  600.000000  600.000000   \n",
       "mean   481.808333  483.88000  506.581667  483.298333  498.636667  479.661667   \n",
       "std      5.940293   30.86557   38.365434    8.549727   41.199762    7.220625   \n",
       "min    462.000000  377.00000  390.000000  458.000000  360.000000  460.000000   \n",
       "25%    478.000000  464.00000  481.000000  478.000000  470.000000  475.000000   \n",
       "50%    482.000000  485.00000  506.000000  483.000000  496.500000  480.000000   \n",
       "75%    486.000000  505.00000  533.000000  489.000000  525.000000  484.000000   \n",
       "max    500.000000  610.00000  619.000000  508.000000  618.000000  501.000000   \n",
       "\n",
       "              6           7           8           9       ...             490  \\\n",
       "count  600.000000  600.000000  600.000000  600.000000     ...      600.000000   \n",
       "mean   481.751667  476.585000  487.758333  478.865000     ...      481.576667   \n",
       "std     39.939478    1.416375   16.021373    7.692772     ...       20.752314   \n",
       "min    345.000000  471.000000  437.000000  456.000000     ...      418.000000   \n",
       "25%    453.000000  476.000000  477.750000  474.000000     ...      467.750000   \n",
       "50%    484.000000  477.000000  487.000000  478.000000     ...      482.000000   \n",
       "75%    508.000000  477.000000  497.000000  483.000000     ...      495.000000   \n",
       "max    606.000000  482.000000  547.000000  505.000000     ...      540.000000   \n",
       "\n",
       "              491         492         493        494         495         496  \\\n",
       "count  600.000000  600.000000  600.000000  600.00000  600.000000  600.000000   \n",
       "mean   478.776667  485.898333  501.631667  494.85500  510.193333  477.923333   \n",
       "std      4.114406   22.723452  126.882457   35.10643   38.522841    5.803182   \n",
       "min    465.000000  420.000000  103.000000  402.00000  353.000000  462.000000   \n",
       "25%    476.000000  471.000000  409.750000  471.00000  485.000000  474.000000   \n",
       "50%    479.000000  486.000000  510.000000  495.00000  508.500000  478.000000   \n",
       "75%    481.000000  501.000000  589.250000  517.00000  536.000000  482.000000   \n",
       "max    492.000000  571.000000  822.000000  614.00000  620.000000  494.000000   \n",
       "\n",
       "              497         498         499  \n",
       "count  600.000000  600.000000  600.000000  \n",
       "mean   482.651667  509.968333  491.661667  \n",
       "std     13.765760   36.366351   26.255529  \n",
       "min    443.000000  384.000000  427.000000  \n",
       "25%    473.000000  485.000000  474.000000  \n",
       "50%    482.000000  508.000000  492.000000  \n",
       "75%    492.250000  533.000000  508.000000  \n",
       "max    526.000000  621.000000  593.000000  \n",
       "\n",
       "[8 rows x 500 columns]"
      ]
     },
     "execution_count": 98,
     "metadata": {},
     "output_type": "execute_result"
    }
   ],
   "source": [
    "x_test.describe()"
   ]
  },
  {
   "cell_type": "markdown",
   "metadata": {},
   "source": [
    "Note : There doesn't seem to much variation among the features except for the standard deviation, but we would need to investiage further"
   ]
  },
  {
   "cell_type": "markdown",
   "metadata": {},
   "source": [
    "### Let's verify the data types of the features which will gives an idea on how to proceed with the next steps"
   ]
  },
  {
   "cell_type": "code",
   "execution_count": 99,
   "metadata": {
    "scrolled": true
   },
   "outputs": [
    {
     "name": "stdout",
     "output_type": "stream",
     "text": [
      "Number of Numerical cols is 500 and categorical cols is 0 in the train data\n",
      "Number of Numerical cols is 500 and categorical cols is 0 in the test data\n"
     ]
    }
   ],
   "source": [
    "cols = x_train.columns\n",
    "num_cols1 = (x_train._get_numeric_data().columns)\n",
    "num_cols = len(x_train._get_numeric_data().columns)\n",
    "factor_cols = len(list(set(cols) - set(num_cols1)))\n",
    "print(\"Number of Numerical cols is {} and categorical cols is {} in the train data\".format(num_cols,factor_cols))\n",
    "\n",
    "cols = x_test.columns\n",
    "num_cols1 = (x_test._get_numeric_data().columns)\n",
    "num_cols = len(x_test._get_numeric_data().columns)\n",
    "factor_cols = len(list(set(cols) - set(num_cols1)))\n",
    "print(\"Number of Numerical cols is {} and categorical cols is {} in the test data\".format(num_cols,factor_cols))"
   ]
  },
  {
   "cell_type": "markdown",
   "metadata": {},
   "source": [
    "Note : There are only numerical columns in both the train and the test data"
   ]
  },
  {
   "cell_type": "markdown",
   "metadata": {},
   "source": [
    "### Let's look at the missing values present in the features of the train and the test data"
   ]
  },
  {
   "cell_type": "code",
   "execution_count": 100,
   "metadata": {
    "scrolled": true
   },
   "outputs": [
    {
     "name": "stdout",
     "output_type": "stream",
     "text": [
      "False\n",
      "False\n"
     ]
    }
   ],
   "source": [
    "print(x_train.isnull().any().any())\n",
    "print(x_test.isnull().any().any())"
   ]
  },
  {
   "cell_type": "markdown",
   "metadata": {},
   "source": [
    "Note: Both train and test do not have any missing values and this is actually a blessing in disguise"
   ]
  },
  {
   "cell_type": "markdown",
   "metadata": {},
   "source": [
    "### Checking if there are single level features in the train and test data"
   ]
  },
  {
   "cell_type": "code",
   "execution_count": 101,
   "metadata": {},
   "outputs": [
    {
     "name": "stdout",
     "output_type": "stream",
     "text": [
      "The number of single level columns in train is 0\n",
      "The number of single level columns in test is 0\n"
     ]
    }
   ],
   "source": [
    "single_level_cols_train = [cols for cols in x_train.columns if x_train[cols].nunique(dropna=False)==1 ]\n",
    "single_level_cols_test = [cols for cols in x_test.columns if x_test[cols].nunique(dropna=False)==1 ]\n",
    "\n",
    "print(\"The number of single level columns in train is {}\".format(len(single_level_cols_train)))\n",
    "print(\"The number of single level columns in test is {}\".format(len(single_level_cols_test)))"
   ]
  },
  {
   "cell_type": "markdown",
   "metadata": {},
   "source": [
    "Note: Both train and test do not have any columns with just 1 value being duplicated across all records"
   ]
  },
  {
   "cell_type": "markdown",
   "metadata": {},
   "source": [
    "### Checking the number of unique values in each feature in the train and test data"
   ]
  },
  {
   "cell_type": "code",
   "execution_count": 102,
   "metadata": {
    "scrolled": true
   },
   "outputs": [],
   "source": [
    "cat_cols = pd.DataFrame(x_train.T.apply(lambda x: x.nunique(), axis=1))\n",
    "cat_cols['Column Name'] = cat_cols.index\n",
    "cols = ['Unique_Vals','Column Name']\n",
    "cat_cols.columns = cols\n",
    "cat_cols = cat_cols[cat_cols['Unique_Vals']<=20]\n",
    "categorical_cols = cat_cols['Column Name']"
   ]
  },
  {
   "cell_type": "code",
   "execution_count": 103,
   "metadata": {
    "scrolled": true
   },
   "outputs": [
    {
     "data": {
      "text/html": [
       "<div>\n",
       "<style scoped>\n",
       "    .dataframe tbody tr th:only-of-type {\n",
       "        vertical-align: middle;\n",
       "    }\n",
       "\n",
       "    .dataframe tbody tr th {\n",
       "        vertical-align: top;\n",
       "    }\n",
       "\n",
       "    .dataframe thead th {\n",
       "        text-align: right;\n",
       "    }\n",
       "</style>\n",
       "<table border=\"1\" class=\"dataframe\">\n",
       "  <thead>\n",
       "    <tr style=\"text-align: right;\">\n",
       "      <th></th>\n",
       "      <th>Unique_Vals</th>\n",
       "      <th>Column Name</th>\n",
       "    </tr>\n",
       "  </thead>\n",
       "  <tbody>\n",
       "    <tr>\n",
       "      <th>90</th>\n",
       "      <td>5</td>\n",
       "      <td>90</td>\n",
       "    </tr>\n",
       "    <tr>\n",
       "      <th>154</th>\n",
       "      <td>7</td>\n",
       "      <td>154</td>\n",
       "    </tr>\n",
       "    <tr>\n",
       "      <th>168</th>\n",
       "      <td>8</td>\n",
       "      <td>168</td>\n",
       "    </tr>\n",
       "    <tr>\n",
       "      <th>173</th>\n",
       "      <td>8</td>\n",
       "      <td>173</td>\n",
       "    </tr>\n",
       "    <tr>\n",
       "      <th>198</th>\n",
       "      <td>9</td>\n",
       "      <td>198</td>\n",
       "    </tr>\n",
       "    <tr>\n",
       "      <th>205</th>\n",
       "      <td>8</td>\n",
       "      <td>205</td>\n",
       "    </tr>\n",
       "    <tr>\n",
       "      <th>228</th>\n",
       "      <td>7</td>\n",
       "      <td>228</td>\n",
       "    </tr>\n",
       "    <tr>\n",
       "      <th>276</th>\n",
       "      <td>5</td>\n",
       "      <td>276</td>\n",
       "    </tr>\n",
       "    <tr>\n",
       "      <th>280</th>\n",
       "      <td>9</td>\n",
       "      <td>280</td>\n",
       "    </tr>\n",
       "    <tr>\n",
       "      <th>283</th>\n",
       "      <td>9</td>\n",
       "      <td>283</td>\n",
       "    </tr>\n",
       "    <tr>\n",
       "      <th>332</th>\n",
       "      <td>7</td>\n",
       "      <td>332</td>\n",
       "    </tr>\n",
       "    <tr>\n",
       "      <th>402</th>\n",
       "      <td>9</td>\n",
       "      <td>402</td>\n",
       "    </tr>\n",
       "    <tr>\n",
       "      <th>404</th>\n",
       "      <td>5</td>\n",
       "      <td>404</td>\n",
       "    </tr>\n",
       "    <tr>\n",
       "      <th>423</th>\n",
       "      <td>4</td>\n",
       "      <td>423</td>\n",
       "    </tr>\n",
       "    <tr>\n",
       "      <th>445</th>\n",
       "      <td>10</td>\n",
       "      <td>445</td>\n",
       "    </tr>\n",
       "  </tbody>\n",
       "</table>\n",
       "</div>"
      ],
      "text/plain": [
       "     Unique_Vals  Column Name\n",
       "90             5           90\n",
       "154            7          154\n",
       "168            8          168\n",
       "173            8          173\n",
       "198            9          198\n",
       "205            8          205\n",
       "228            7          228\n",
       "276            5          276\n",
       "280            9          280\n",
       "283            9          283\n",
       "332            7          332\n",
       "402            9          402\n",
       "404            5          404\n",
       "423            4          423\n",
       "445           10          445"
      ]
     },
     "execution_count": 103,
     "metadata": {},
     "output_type": "execute_result"
    }
   ],
   "source": [
    "tt = pd.DataFrame(x_test.T.apply(lambda x: x.nunique(), axis=1))\n",
    "tt['Column Name'] = tt.index\n",
    "cols = ['Unique_Vals','Column Name']\n",
    "tt.columns = cols\n",
    "tt[tt['Unique_Vals']<=10]"
   ]
  },
  {
   "cell_type": "markdown",
   "metadata": {},
   "source": [
    "We can see that there are quite a few columns with very less unique values and actually we can make these variables as categorical variables and factorize them and then build models.\n",
    "\n",
    "Note:\n",
    "1. We will do this step as a part of our feature engineering\n",
    "2. We would need to combine the train and test and perfrom factorization and then split them back in order to account for extra level in test when compared to train in a particular feature"
   ]
  },
  {
   "cell_type": "markdown",
   "metadata": {},
   "source": [
    "### Checking for duplicate columns in the data sets"
   ]
  },
  {
   "cell_type": "code",
   "execution_count": 104,
   "metadata": {},
   "outputs": [
    {
     "name": "stdout",
     "output_type": "stream",
     "text": [
      "Shape of the data frame after removing any duplicate columns in train is (2000, 500)\n",
      "Shape of the data frame after removing any duplicate columns in test is (600, 500)\n"
     ]
    }
   ],
   "source": [
    "d0 = x_train.T.drop_duplicates().T\n",
    "d1 = x_test.T.drop_duplicates().T\n",
    "print(\"Shape of the data frame after removing any duplicate columns in train is {}\".format(d0.shape))\n",
    "print(\"Shape of the data frame after removing any duplicate columns in test is {}\".format(d1.shape))"
   ]
  },
  {
   "cell_type": "markdown",
   "metadata": {},
   "source": [
    "There are no 2 columns with same values for all records in both the train and the test data"
   ]
  },
  {
   "cell_type": "markdown",
   "metadata": {},
   "source": [
    "### Checking if there are any ID columns"
   ]
  },
  {
   "cell_type": "code",
   "execution_count": 105,
   "metadata": {},
   "outputs": [
    {
     "data": {
      "text/plain": [
       "552"
      ]
     },
     "execution_count": 105,
     "metadata": {},
     "output_type": "execute_result"
    }
   ],
   "source": [
    "cols = pd.DataFrame(x_train.T.apply(lambda x: x.nunique(), axis=1))\n",
    "cols['Column Name'] = cols.index\n",
    "cols1 = ['Unique_Vals','Column Name']\n",
    "cols.columns = cols1\n",
    "max(cols['Unique_Vals'])"
   ]
  },
  {
   "cell_type": "markdown",
   "metadata": {},
   "source": [
    "Since the maximum number of unique values in the data is 552, we can confirm that there are no unique identifier columns "
   ]
  },
  {
   "cell_type": "markdown",
   "metadata": {},
   "source": [
    "### Checking for Skewness in the variables"
   ]
  },
  {
   "cell_type": "code",
   "execution_count": 106,
   "metadata": {},
   "outputs": [
    {
     "data": {
      "image/png": "[encoded data removed]",
      "text/plain": [
       "<matplotlib.figure.Figure at 0x17e80050160>"
      ]
     },
     "metadata": {
      "needs_background": "light"
     },
     "output_type": "display_data"
    }
   ],
   "source": [
    "#Source : https://github.com/Prashanth1194/Useful-Python-Codes/blob/master/Python%20Code.ipynb\n",
    "from scipy import stats\n",
    "\n",
    "skewness_list = []\n",
    "for cn in x_train.columns:\n",
    "    skewness_list.append(stats.skew(x_train[cn]))\n",
    "\n",
    "plt.figure(figsize=(10,7))\n",
    "plt.plot(skewness_list, 'bo-')\n",
    "plt.xlabel(\"continous features\")\n",
    "plt.ylabel(\"skewness\")\n",
    "plt.title(\"plotting skewness of the continous features\")\n",
    "plt.xticks(range(15), range(1,15,1))\n",
    "plt.plot([(0.15) for i in range(0,14)], 'r--')\n",
    "#plt.text(10, .1, 'threshold = 0.25')\n",
    "plt.show()"
   ]
  },
  {
   "cell_type": "code",
   "execution_count": 107,
   "metadata": {
    "scrolled": true
   },
   "outputs": [
    {
     "data": {
      "image/png": "[encoded data removed]",
      "text/plain": [
       "<matplotlib.figure.Figure at 0x17e8065b4a8>"
      ]
     },
     "metadata": {
      "needs_background": "light"
     },
     "output_type": "display_data"
    }
   ],
   "source": [
    "skewed_cont_columns = []\n",
    "for i, cn in enumerate(x_train.columns):\n",
    "    if skewness_list[i] >= 0.15:\n",
    "        skewed_cont_columns.append(cn)\n",
    "\n",
    "\n",
    "plt.figure(figsize=(15,25))\n",
    "gs = gridspec.GridSpec(6, 2)\n",
    "for i, cn in enumerate(skewed_cont_columns):\n",
    "    ax = plt.subplot(gs[i])\n",
    "    sns.distplot(x_train[cn], bins=50)\n",
    "    ax.set_xlabel('')\n",
    "    ax.set_title('hist plot of feature: ' + str(cn))\n",
    "plt.show()"
   ]
  },
  {
   "cell_type": "markdown",
   "metadata": {},
   "source": [
    "Even though we kept a small cut-off of 0.15, the features above this cut-off still seem to be normally distributed"
   ]
  },
  {
   "cell_type": "markdown",
   "metadata": {},
   "source": [
    "### Checking the balance of the target variable in train data"
   ]
  },
  {
   "cell_type": "code",
   "execution_count": 108,
   "metadata": {},
   "outputs": [
    {
     "data": {
      "text/plain": [
       " 1    1000\n",
       "-1    1000\n",
       "Name: 0, dtype: int64"
      ]
     },
     "execution_count": 108,
     "metadata": {},
     "output_type": "execute_result"
    }
   ],
   "source": [
    "y_train[0].value_counts()"
   ]
  },
  {
   "cell_type": "markdown",
   "metadata": {},
   "source": [
    "Note:The train data has a perfectly balanced distribution of the target variable hence we do not need to perform any sampling technique.\n",
    "This will actually help us in choosing a variety of evaluation metric to evaluate the models. Eg : Accuracy, AUC-ROC and F-Score would be a good start"
   ]
  },
  {
   "cell_type": "markdown",
   "metadata": {},
   "source": [
    "## Baseline Models Starts here :"
   ]
  },
  {
   "cell_type": "markdown",
   "metadata": {},
   "source": [
    "Note: Let's take Logistic Regression, K Nearest Neighbours, RandomForest, Gradient Boosting as the 4 models and optimize it further using feature engineering and hyperparameter tuning later"
   ]
  },
  {
   "cell_type": "code",
   "execution_count": 109,
   "metadata": {},
   "outputs": [],
   "source": [
    "class baseline_models:\n",
    "    \n",
    "    def logistic_regression(self,x_train,y_train,x_test,y_test):\n",
    "        lr = LogisticRegression(random_state=20)\n",
    "        lr.fit(x_train,y_train)\n",
    "        test_pred = lr.predict_proba(x_test)[:,1]\n",
    "        test_pred1 = lr.predict(x_test)\n",
    "        print(\"Logistic Regression:\")\n",
    "        print(\"Test AUC-ROC value is {}\".format(roc_auc_score(y_test, test_pred)))\n",
    "        print(\"Test Accuracy is {}\".format(accuracy_score(y_test,test_pred1)))\n",
    "        print(\"\\n\")\n",
    "        return(test_pred)\n",
    "    \n",
    "    def knn(self,x_train,y_train,x_test,y_test):\n",
    "        neigh = KNeighborsClassifier()\n",
    "        neigh.fit(x_train, y_train)\n",
    "        test_pred1 = neigh.predict(x_test)\n",
    "        test_pred = neigh.predict_proba(x_test)[:,1]\n",
    "        print(\"K Nearest Neighbour Classifier:\")\n",
    "        print(\"Test AUC-ROC value is {}\".format(roc_auc_score(y_test, test_pred)))\n",
    "        print(\"Test Accuracy is {}\".format(accuracy_score(y_test,test_pred1)))\n",
    "        print(\"\\n\")\n",
    "        return(test_pred)\n",
    "            \n",
    "    \n",
    "    def random_forest(self,x_train,y_train,x_test,y_test):\n",
    "\n",
    "        cf_rf = RandomForestClassifier(random_state=20)\n",
    "        cf_rf.fit(x_train,y_train)\n",
    "        test_pred = cf_rf.predict_proba(x_test)[:,1]\n",
    "        test_pred1 = cf_rf.predict(x_test)\n",
    "        features = x_train.columns\n",
    "        importances = cf_rf.feature_importances_\n",
    "        indices = np.argsort(importances)\n",
    "        #print(indices)\n",
    "        imp_table_rf = pd.DataFrame(columns = ['Feature','Value'])\n",
    "            \n",
    "        imp_table_rf['Feature'] = x_train.columns\n",
    "        imp_table_rf['Value'] = cf_rf.feature_importances_\n",
    "        feat_imp = pd.Series(cf_rf.feature_importances_, features).sort_values(ascending=False)\n",
    "        feat_imp = feat_imp[0:10]\n",
    "        feat_imp.plot(kind='bar', title='Feature Importances')\n",
    "        plt.ylabel('Feature Importance Score')   \n",
    "        #imp_table_rf['Feature'] = x_train.columns\n",
    "        #imp_table_rf['Value'] = cf_rf.feature_importances_\n",
    "        #plt.title('Feature Importance for Random Forest')\n",
    "        #plt.barh(range(len(indices)), importances[indices], color='b', align='center')\n",
    "        #plt.yticks(range(len(indices)), [features[i] for i in indices])\n",
    "        #plt.xlabel('Relative Importance')\n",
    "        plt.show()\n",
    "        \n",
    "        print(\"Random Forest Classifier:\")\n",
    "        print(\"Test AUC-ROC value is {}\".format(roc_auc_score(y_test, test_pred)))\n",
    "        print(\"Test Accuracy is {}\".format(accuracy_score(y_test,test_pred1)))\n",
    "        print(\"\\n\")\n",
    "        return(test_pred,imp_table_rf)\n",
    "        \n",
    "    def boosting_model(self,x_train,y_train,x_test,y_test):\n",
    "\n",
    "        cf_gb = GradientBoostingClassifier(random_state=20)\n",
    "        cf_gb.fit(x_train,y_train)\n",
    "        test_pred = cf_gb.predict_proba(x_test)[:,1]\n",
    "        test_pred1 = cf_gb.predict(x_test)\n",
    "        features = x_train.columns#[1:10]\n",
    "        importances = cf_gb.feature_importances_#[1:10]\n",
    "        indices = np.argsort(importances)\n",
    "        imp_table = pd.DataFrame(columns = ['Feature','Value'])\n",
    "        imp_table['Feature'] = x_train.columns\n",
    "        imp_table['Value'] = cf_gb.feature_importances_\n",
    "        plt.title('Feature Importance for Gradient Boosting')\n",
    "        #indices = indices[0:10]\n",
    "        #print(len(indices))\n",
    "        #print(importances[indices])\n",
    "        feat_imp = pd.Series(cf_gb.feature_importances_, features).sort_values(ascending=False)\n",
    "        feat_imp = feat_imp[0:10]\n",
    "        feat_imp.plot(kind='bar', title='Feature Importances')\n",
    "        plt.ylabel('Feature Importance Score')\n",
    "        #plt.barh(range(len(indices)), importances[indices], color='b', align='center')\n",
    "        #plt.yticks(range(len(indices)), [features[i] for i in indices])\n",
    "        #plt.xlabel('Relative Importance')\n",
    "        plt.show()\n",
    "        print(\"Gradient Boosting Model:\")\n",
    "        print(\"Test AUC-ROC value is {}\".format(roc_auc_score(y_test, test_pred)))\n",
    "        print(\"Test Accuracy is {}\".format(accuracy_score(y_test,test_pred1)))\n",
    "        print(\"\\n\")\n",
    "        return(test_pred,imp_table)\n",
    "\n"
   ]
  },
  {
   "cell_type": "code",
   "execution_count": 110,
   "metadata": {
    "scrolled": true
   },
   "outputs": [
    {
     "name": "stdout",
     "output_type": "stream",
     "text": [
      "Logistic Regression:\n",
      "Test AUC-ROC value is 0.6018888888888889\n",
      "Test Accuracy is 0.59\n",
      "\n",
      "\n",
      "K Nearest Neighbour Classifier:\n",
      "Test AUC-ROC value is 0.7580166666666666\n",
      "Test Accuracy is 0.6916666666666667\n",
      "\n",
      "\n"
     ]
    },
    {
     "data": {
      "image/png": "[encoded data removed]",
      "text/plain": [
       "<matplotlib.figure.Figure at 0x17e83d7ad68>"
      ]
     },
     "metadata": {
      "needs_background": "light"
     },
     "output_type": "display_data"
    },
    {
     "name": "stdout",
     "output_type": "stream",
     "text": [
      "Random Forest Classifier:\n",
      "Test AUC-ROC value is 0.6746666666666665\n",
      "Test Accuracy is 0.6283333333333333\n",
      "\n",
      "\n"
     ]
    },
    {
     "data": {
      "image/png": "[encoded data removed]",
      "text/plain": [
       "<matplotlib.figure.Figure at 0x17e82ef50b8>"
      ]
     },
     "metadata": {
      "needs_background": "light"
     },
     "output_type": "display_data"
    },
    {
     "name": "stdout",
     "output_type": "stream",
     "text": [
      "Gradient Boosting Model:\n",
      "Test AUC-ROC value is 0.8340111111111111\n",
      "Test Accuracy is 0.7433333333333333\n",
      "\n",
      "\n"
     ]
    }
   ],
   "source": [
    "base = baseline_models()\n",
    "test_pred_glm = base.logistic_regression(x_train,y_train,x_test,y_test)\n",
    "test_pred_knn = base.knn(x_train,y_train,x_test,y_test)\n",
    "test_pred_rf,imp_table_rf = base.random_forest(x_train,y_train,x_test,y_test)\n",
    "test_pred_gbm,imp_table_gbm = base.boosting_model(x_train,y_train,x_test,y_test)"
   ]
  },
  {
   "cell_type": "markdown",
   "metadata": {},
   "source": [
    "### Combining the feature importance of both the tree models "
   ]
  },
  {
   "cell_type": "code",
   "execution_count": 111,
   "metadata": {
    "scrolled": true
   },
   "outputs": [
    {
     "data": {
      "text/html": [
       "<div>\n",
       "<style scoped>\n",
       "    .dataframe tbody tr th:only-of-type {\n",
       "        vertical-align: middle;\n",
       "    }\n",
       "\n",
       "    .dataframe tbody tr th {\n",
       "        vertical-align: top;\n",
       "    }\n",
       "\n",
       "    .dataframe thead th {\n",
       "        text-align: right;\n",
       "    }\n",
       "</style>\n",
       "<table border=\"1\" class=\"dataframe\">\n",
       "  <thead>\n",
       "    <tr style=\"text-align: right;\">\n",
       "      <th></th>\n",
       "      <th>Feature</th>\n",
       "      <th>Value_x</th>\n",
       "      <th>Value_y</th>\n",
       "      <th>combined</th>\n",
       "    </tr>\n",
       "  </thead>\n",
       "  <tbody>\n",
       "    <tr>\n",
       "      <th>378</th>\n",
       "      <td>378</td>\n",
       "      <td>0.085473</td>\n",
       "      <td>0.006504</td>\n",
       "      <td>0.091977</td>\n",
       "    </tr>\n",
       "    <tr>\n",
       "      <th>338</th>\n",
       "      <td>338</td>\n",
       "      <td>0.069296</td>\n",
       "      <td>0.015853</td>\n",
       "      <td>0.085148</td>\n",
       "    </tr>\n",
       "    <tr>\n",
       "      <th>475</th>\n",
       "      <td>475</td>\n",
       "      <td>0.068822</td>\n",
       "      <td>0.008472</td>\n",
       "      <td>0.077294</td>\n",
       "    </tr>\n",
       "    <tr>\n",
       "      <th>105</th>\n",
       "      <td>105</td>\n",
       "      <td>0.049749</td>\n",
       "      <td>0.015559</td>\n",
       "      <td>0.065307</td>\n",
       "    </tr>\n",
       "    <tr>\n",
       "      <th>318</th>\n",
       "      <td>318</td>\n",
       "      <td>0.049477</td>\n",
       "      <td>0.010963</td>\n",
       "      <td>0.060440</td>\n",
       "    </tr>\n",
       "  </tbody>\n",
       "</table>\n",
       "</div>"
      ],
      "text/plain": [
       "     Feature   Value_x   Value_y  combined\n",
       "378      378  0.085473  0.006504  0.091977\n",
       "338      338  0.069296  0.015853  0.085148\n",
       "475      475  0.068822  0.008472  0.077294\n",
       "105      105  0.049749  0.015559  0.065307\n",
       "318      318  0.049477  0.010963  0.060440"
      ]
     },
     "execution_count": 111,
     "metadata": {},
     "output_type": "execute_result"
    }
   ],
   "source": [
    "imp_table = pd.merge(imp_table_gbm,imp_table_rf,on='Feature',how='inner')\n",
    "imp_table = imp_table.sort_index(by=['Value_x', 'Value_y'], ascending=[False, False])\n",
    "imp_table['combined'] = imp_table['Value_x'] + imp_table['Value_y']\n",
    "imp_table = imp_table.sort_index(by=['combined'], ascending=[False])\n",
    "imp_table.head()"
   ]
  },
  {
   "cell_type": "markdown",
   "metadata": {},
   "source": [
    "Next we need to perform Feature Engineering and check if these baseline models improve in performance"
   ]
  },
  {
   "cell_type": "markdown",
   "metadata": {},
   "source": [
    "## Feature Engineering Starts here :"
   ]
  },
  {
   "cell_type": "markdown",
   "metadata": {},
   "source": [
    "#### First let's try removing correlated features from original data and check the baseline model performance"
   ]
  },
  {
   "cell_type": "markdown",
   "metadata": {},
   "source": [
    "The Variance Inflation Factor (VIF) is used as a method to remvoe correlated variables and even though the tree based models do not have a problem handling correlated variables, the logistic regression should give better results after removing correlated variables.\n",
    "\n",
    "VIF basically takes in every independent variable and considers it as the dependent variable and builds a regression with all other variables as the independent variables and computes the R^2 value and further the VIF value which is (1/(1-R^2)) for each independent variable present in our data set.\n",
    "\n",
    "If the R^2 value is high, it means that the other independent variables are able to capture the variance captured by independent variable under consideration and we can remove it. Usually R^2 value of 0.9 will give a VIF value of 10 and anything more than 10 we can remove the variable . In this case, we will be more strict on the variables and have a VIF cut-off of 5 since we have 500 variables."
   ]
  },
  {
   "cell_type": "markdown",
   "metadata": {},
   "source": [
    "#### Note: This function might take sometime to execute"
   ]
  },
  {
   "cell_type": "code",
   "execution_count": 112,
   "metadata": {},
   "outputs": [],
   "source": [
    "def variance_inflation_factors(exog_df):\n",
    "\n",
    "    exog_df = add_constant(exog_df)\n",
    "    vifs = pd.Series(\n",
    "        [1 / (1. - OLS(exog_df[col].values, \n",
    "                       exog_df.loc[:, exog_df.columns != col].values).fit().rsquared) \n",
    "         for col in exog_df],\n",
    "        index=exog_df.columns,\n",
    "        name='VIF'\n",
    "    )\n",
    "    return vifs\n"
   ]
  },
  {
   "cell_type": "code",
   "execution_count": 113,
   "metadata": {
    "scrolled": true
   },
   "outputs": [],
   "source": [
    "vif_vals = variance_inflation_factors(x_train)"
   ]
  },
  {
   "cell_type": "code",
   "execution_count": 114,
   "metadata": {},
   "outputs": [],
   "source": [
    "vif_df = pd.DataFrame(columns=['Cols','VIF_Values'])\n",
    "tt = pd.DataFrame(vif_vals)\n",
    "vif_df['Cols'] = tt.index\n",
    "vif_df['VIF_Values'] = tt['VIF']"
   ]
  },
  {
   "cell_type": "markdown",
   "metadata": {},
   "source": [
    "Keeping VIF cut-off as 5 (In this case a cut-off of 5 or 10 gives the same result), we remove the correlated variables and check the accuracy of the baseline model."
   ]
  },
  {
   "cell_type": "code",
   "execution_count": 115,
   "metadata": {
    "scrolled": false
   },
   "outputs": [],
   "source": [
    "tt = vif_df[vif_df['VIF_Values']>=5]\n",
    "corr_cols = list(tt['Cols'])\n",
    "required_features = [i for i in x_train.columns if i not in corr_cols]"
   ]
  },
  {
   "cell_type": "code",
   "execution_count": 116,
   "metadata": {
    "scrolled": true
   },
   "outputs": [
    {
     "name": "stdout",
     "output_type": "stream",
     "text": [
      "Logistic Regression:\n",
      "Test AUC-ROC value is 0.5999000000000001\n",
      "Test Accuracy is 0.5733333333333334\n",
      "\n",
      "\n",
      "K Nearest Neighbour Classifier:\n",
      "Test AUC-ROC value is 0.7685166666666666\n",
      "Test Accuracy is 0.6933333333333334\n",
      "\n",
      "\n"
     ]
    },
    {
     "data": {
      "image/png": "[encoded data removed]",
      "text/plain": [
       "<matplotlib.figure.Figure at 0x17e82f614a8>"
      ]
     },
     "metadata": {
      "needs_background": "light"
     },
     "output_type": "display_data"
    },
    {
     "name": "stdout",
     "output_type": "stream",
     "text": [
      "Random Forest Classifier:\n",
      "Test AUC-ROC value is 0.6847111111111112\n",
      "Test Accuracy is 0.6283333333333333\n",
      "\n",
      "\n"
     ]
    },
    {
     "data": {
      "image/png": "[encoded data removed]",
      "text/plain": [
       "<matplotlib.figure.Figure at 0x17e80d15710>"
      ]
     },
     "metadata": {
      "needs_background": "light"
     },
     "output_type": "display_data"
    },
    {
     "name": "stdout",
     "output_type": "stream",
     "text": [
      "Gradient Boosting Model:\n",
      "Test AUC-ROC value is 0.8256111111111111\n",
      "Test Accuracy is 0.7283333333333334\n",
      "\n",
      "\n"
     ]
    }
   ],
   "source": [
    "test_pred_glm = base.logistic_regression(x_train[required_features],y_train,x_test[required_features],y_test)\n",
    "test_pred_knn = base.knn(x_train[required_features],y_train,x_test[required_features],y_test)\n",
    "test_pred_rf = base.random_forest(x_train[required_features],y_train,x_test[required_features],y_test)\n",
    "test_pred_gbm = base.boosting_model(x_train[required_features],y_train,x_test[required_features],y_test)"
   ]
  },
  {
   "cell_type": "markdown",
   "metadata": {},
   "source": [
    "Note: It might be a bit surprising that Logistic regression dint improve in terms of AUC or Accuracy after removing correlated features but other models slightly improved (Not by a significant amount though).\n",
    "Sometimes correlation does not lead to causality and maybe it's better to have these variables in the model and some more interesting feature engineering is required to improve the accuracies."
   ]
  },
  {
   "cell_type": "markdown",
   "metadata": {},
   "source": [
    "#### Replacing features with less levels with their Information Value"
   ]
  },
  {
   "cell_type": "markdown",
   "metadata": {},
   "source": [
    "Weight of Evidence basically calculates the number of 1's and number of -1's for each level in the feature and then calculates a ratio between them by taking their respective logarithmic values and then calculates the Information value for each level in the feature"
   ]
  },
  {
   "cell_type": "markdown",
   "metadata": {},
   "source": [
    "A function for calculating the information value"
   ]
  },
  {
   "cell_type": "code",
   "execution_count": 117,
   "metadata": {},
   "outputs": [],
   "source": [
    "#Source for this function : https://www.kaggle.com/puremath86/iv-woe-starter-for-python/notebook\n",
    "\n",
    "def calc_iv(df, feature, target, pr=False):\n",
    "\n",
    "    lst = []\n",
    "\n",
    "    df[feature] = df[feature].fillna(\"NULL\")\n",
    "\n",
    "    for i in range(df[feature].nunique()):\n",
    "        val = list(df[feature].unique())[i]\n",
    "        lst.append([feature,                                                        # Variable\n",
    "                    val,                                                            # Value\n",
    "                    df[df[feature] == val].count()[feature],                        # All\n",
    "                    df[(df[feature] == val) & (df[target] == 0)].count()[feature],  # Good (think: Fraud == 0)\n",
    "                    df[(df[feature] == val) & (df[target] == 1)].count()[feature]]) # Bad (think: Fraud == 1)\n",
    "\n",
    "    data = pd.DataFrame(lst, columns=['Variable', 'Value', 'All', 'Good', 'Bad'])\n",
    "\n",
    "    data['Share'] = data['All'] / data['All'].sum()\n",
    "    data['Bad Rate'] = data['Bad'] / data['All']\n",
    "    data['Distribution Good'] = (data['All'] - data['Bad']) / (data['All'].sum() - data['Bad'].sum())\n",
    "    data['Distribution Bad'] = data['Bad'] / data['Bad'].sum()\n",
    "    data['WoE'] = np.log(data['Distribution Good'] / data['Distribution Bad'])\n",
    "\n",
    "    data = data.replace({'WoE': {np.inf: 0, -np.inf: 0}})\n",
    "\n",
    "    data['IV'] = data['WoE'] * (data['Distribution Good'] - data['Distribution Bad'])\n",
    "\n",
    "    data = data.sort_values(by=['Variable', 'Value'], ascending=[True, True])\n",
    "    data.index = range(len(data.index))\n",
    "\n",
    "    if pr:\n",
    "        print(data)\n",
    "        print('IV = ', data['IV'].sum())\n",
    "\n",
    "\n",
    "    iv = data['IV'].sum()\n",
    "   \n",
    "\n",
    "    return iv, data"
   ]
  },
  {
   "cell_type": "markdown",
   "metadata": {},
   "source": [
    "Considering features with 10 or less levels as categorical features"
   ]
  },
  {
   "cell_type": "code",
   "execution_count": 118,
   "metadata": {},
   "outputs": [],
   "source": [
    "cat_cols = pd.DataFrame(x_train.T.apply(lambda x: x.nunique(), axis=1))\n",
    "cat_cols['Column Name'] = cat_cols.index\n",
    "cols = ['Unique_Vals','Column Name']\n",
    "cat_cols.columns = cols\n",
    "cat_cols = cat_cols[cat_cols['Unique_Vals']<=10]\n",
    "categorical_cols = cat_cols['Column Name']"
   ]
  },
  {
   "cell_type": "code",
   "execution_count": 119,
   "metadata": {},
   "outputs": [],
   "source": [
    "x_train1 = x_train\n",
    "x_test1 = x_test\n",
    "\n",
    "x_train1['target'] = y_train\n",
    "for i in categorical_cols:\n",
    "    iv, data = calc_iv(x_train1, i, 'target')\n",
    "    cols = ['Value','IV']\n",
    "    data = data[cols]\n",
    "    data['IV'] = data['IV'] * 100\n",
    "    string = str('IV' + str(i))\n",
    "    cols1 = ['Value',string]\n",
    "    data.columns = cols1\n",
    "    x_train1 = pd.merge(x_train1,data,left_on=i,right_on='Value',how='inner')\n",
    "    x_test1 = pd.merge(x_test1,data,left_on=i,right_on='Value',how='inner')\n",
    "    del x_train1['Value']\n",
    "    del x_test1['Value']\n",
    "    del x_train1[i]\n",
    "    del x_test1[i]\n",
    "\n",
    "del x_train1['target']"
   ]
  },
  {
   "cell_type": "markdown",
   "metadata": {},
   "source": [
    "Normalizing the data"
   ]
  },
  {
   "cell_type": "code",
   "execution_count": 120,
   "metadata": {},
   "outputs": [],
   "source": [
    "x_train1 = (x_train1 - x_train1.min())/(x_train1.max() - x_train1.min())\n",
    "x_test1 = (x_test1 - x_test1.min())/(x_test1.max() - x_test1.min())"
   ]
  },
  {
   "cell_type": "code",
   "execution_count": 121,
   "metadata": {
    "scrolled": true
   },
   "outputs": [
    {
     "name": "stdout",
     "output_type": "stream",
     "text": [
      "Logistic Regression:\n",
      "Test AUC-ROC value is 0.5627777777777778\n",
      "Test Accuracy is 0.5316666666666666\n",
      "\n",
      "\n",
      "K Nearest Neighbour Classifier:\n",
      "Test AUC-ROC value is 0.5153222222222222\n",
      "Test Accuracy is 0.5216666666666666\n",
      "\n",
      "\n"
     ]
    },
    {
     "data": {
      "image/png": "[encoded data removed]",
      "text/plain": [
       "<matplotlib.figure.Figure at 0x17e80c4c5f8>"
      ]
     },
     "metadata": {
      "needs_background": "light"
     },
     "output_type": "display_data"
    },
    {
     "name": "stdout",
     "output_type": "stream",
     "text": [
      "Random Forest Classifier:\n",
      "Test AUC-ROC value is 0.43332777777777776\n",
      "Test Accuracy is 0.445\n",
      "\n",
      "\n"
     ]
    },
    {
     "data": {
      "image/png": "[encoded data removed]",
      "text/plain": [
       "<matplotlib.figure.Figure at 0x17e80a3f438>"
      ]
     },
     "metadata": {
      "needs_background": "light"
     },
     "output_type": "display_data"
    },
    {
     "name": "stdout",
     "output_type": "stream",
     "text": [
      "Gradient Boosting Model:\n",
      "Test AUC-ROC value is 0.5628666666666666\n",
      "Test Accuracy is 0.5466666666666666\n",
      "\n",
      "\n"
     ]
    }
   ],
   "source": [
    "test_pred_glm = base.logistic_regression(x_train1,y_train,x_test1,y_test)\n",
    "test_pred_knn = base.knn(x_train1,y_train,x_test1,y_test)\n",
    "test_pred_rf = base.random_forest(x_train1,y_train,x_test1,y_test)\n",
    "test_pred_gbm = base.boosting_model(x_train1,y_train,x_test1,y_test)"
   ]
  },
  {
   "cell_type": "markdown",
   "metadata": {},
   "source": [
    "Note: The baseline models aren't performing better after replacing certain \"might-be\" categorical features with the information value of their respective levels.\n",
    "    In fact, they are performing very badly"
   ]
  },
  {
   "cell_type": "markdown",
   "metadata": {},
   "source": [
    "#### Subsetting only the top 10 important features"
   ]
  },
  {
   "cell_type": "code",
   "execution_count": 122,
   "metadata": {},
   "outputs": [
    {
     "data": {
      "text/plain": [
       "[378, 338, 475, 105, 318, 153, 241, 442, 48, 28]"
      ]
     },
     "execution_count": 122,
     "metadata": {},
     "output_type": "execute_result"
    }
   ],
   "source": [
    "useful_cols = list(imp_table.iloc[0:10,0])\n",
    "useful_cols"
   ]
  },
  {
   "cell_type": "code",
   "execution_count": 123,
   "metadata": {
    "scrolled": true
   },
   "outputs": [
    {
     "name": "stdout",
     "output_type": "stream",
     "text": [
      "Logistic Regression:\n",
      "Test AUC-ROC value is 0.6275444444444445\n",
      "Test Accuracy is 0.5933333333333334\n",
      "\n",
      "\n",
      "K Nearest Neighbour Classifier:\n",
      "Test AUC-ROC value is 0.9607722222222222\n",
      "Test Accuracy is 0.9\n",
      "\n",
      "\n"
     ]
    },
    {
     "data": {
      "image/png": "[encoded data removed]",
      "text/plain": [
       "<matplotlib.figure.Figure at 0x17e83f17d68>"
      ]
     },
     "metadata": {
      "needs_background": "light"
     },
     "output_type": "display_data"
    },
    {
     "name": "stdout",
     "output_type": "stream",
     "text": [
      "Random Forest Classifier:\n",
      "Test AUC-ROC value is 0.9394666666666665\n",
      "Test Accuracy is 0.8683333333333333\n",
      "\n",
      "\n"
     ]
    },
    {
     "data": {
      "image/png": "[encoded data removed]",
      "text/plain": [
       "<matplotlib.figure.Figure at 0x17e80d288d0>"
      ]
     },
     "metadata": {
      "needs_background": "light"
     },
     "output_type": "display_data"
    },
    {
     "name": "stdout",
     "output_type": "stream",
     "text": [
      "Gradient Boosting Model:\n",
      "Test AUC-ROC value is 0.8886944444444446\n",
      "Test Accuracy is 0.8183333333333334\n",
      "\n",
      "\n"
     ]
    }
   ],
   "source": [
    "test_pred_glm = base.logistic_regression(x_train[useful_cols],y_train,x_test[useful_cols],y_test)\n",
    "test_pred_knn = base.knn(x_train[useful_cols],y_train,x_test[useful_cols],y_test)\n",
    "test_pred_rf,imp_table_rf = base.random_forest(x_train[useful_cols],y_train,x_test[useful_cols],y_test)\n",
    "test_pred_gbm,imp_table_gbm = base.boosting_model(x_train[useful_cols],y_train,x_test[useful_cols],y_test)"
   ]
  },
  {
   "cell_type": "markdown",
   "metadata": {},
   "source": [
    "Note: We can see that subsetting important features improved the baseline model performances significantly"
   ]
  },
  {
   "cell_type": "markdown",
   "metadata": {},
   "source": [
    "Subsetting train and test based on the above identified useful features"
   ]
  },
  {
   "cell_type": "code",
   "execution_count": 124,
   "metadata": {},
   "outputs": [],
   "source": [
    "x_train = x_train[useful_cols]\n",
    "x_test = x_test[useful_cols]"
   ]
  },
  {
   "cell_type": "markdown",
   "metadata": {},
   "source": [
    "#### Creating New features based on the above obtained feature importance plots"
   ]
  },
  {
   "cell_type": "code",
   "execution_count": 125,
   "metadata": {},
   "outputs": [],
   "source": [
    "x_train['105_153'] = np.log1p(x_train[105] + x_train[153])\n",
    "x_test['105_153'] = np.log1p(x_test[105] + x_test[153])\n",
    "\n",
    "x_train['378_105'] = np.log1p(x_train[378] + x_train[105])\n",
    "x_test['378_105'] = np.log1p(x_test[378] + x_test[105])\n",
    "\n",
    "x_train['378_153'] = np.log1p(x_train[378] + x_train[153])\n",
    "x_test['378_153'] = np.log1p(x_test[378] + x_test[153])\n",
    "\n",
    "x_train['378_mul_153'] = np.log1p(x_train[378] * x_train[153])\n",
    "x_test['378_mul_153'] = np.log1p(x_test[378] * x_test[153])\n",
    "\n",
    "x_train['153_442'] = np.log1p(x_train[153] + x_train[442])\n",
    "x_test['153_442'] = np.log1p(x_test[153] + x_test[442])\n",
    "\n",
    "x_train['153_mul_442'] = np.log1p(x_train[153] * x_train[442])\n",
    "x_test['153_mul_442'] = np.log1p(x_test[153] * x_test[442])"
   ]
  },
  {
   "cell_type": "code",
   "execution_count": 126,
   "metadata": {
    "scrolled": true
   },
   "outputs": [
    {
     "name": "stdout",
     "output_type": "stream",
     "text": [
      "Logistic Regression:\n",
      "Test AUC-ROC value is 0.6401555555555556\n",
      "Test Accuracy is 0.5866666666666667\n",
      "\n",
      "\n",
      "K Nearest Neighbour Classifier:\n",
      "Test AUC-ROC value is 0.9607722222222222\n",
      "Test Accuracy is 0.9\n",
      "\n",
      "\n"
     ]
    },
    {
     "data": {
      "image/png": "[encoded data removed]",
      "text/plain": [
       "<matplotlib.figure.Figure at 0x17e82f4afd0>"
      ]
     },
     "metadata": {
      "needs_background": "light"
     },
     "output_type": "display_data"
    },
    {
     "name": "stdout",
     "output_type": "stream",
     "text": [
      "Random Forest Classifier:\n",
      "Test AUC-ROC value is 0.9406166666666665\n",
      "Test Accuracy is 0.8666666666666667\n",
      "\n",
      "\n"
     ]
    },
    {
     "data": {
      "image/png": "[encoded data removed]",
      "text/plain": [
       "<matplotlib.figure.Figure at 0x17e8064add8>"
      ]
     },
     "metadata": {
      "needs_background": "light"
     },
     "output_type": "display_data"
    },
    {
     "name": "stdout",
     "output_type": "stream",
     "text": [
      "Gradient Boosting Model:\n",
      "Test AUC-ROC value is 0.9119888888888888\n",
      "Test Accuracy is 0.84\n",
      "\n",
      "\n"
     ]
    }
   ],
   "source": [
    "test_pred_glm = base.logistic_regression(x_train,y_train,x_test,y_test)\n",
    "test_pred_knn = base.knn(x_train,y_train,x_test,y_test)\n",
    "test_pred_rf,imp_table_rf = base.random_forest(x_train,y_train,x_test,y_test)\n",
    "test_pred_gbm,imp_table_gbm = base.boosting_model(x_train,y_train,x_test,y_test)"
   ]
  },
  {
   "cell_type": "markdown",
   "metadata": {},
   "source": [
    "Note: We can see that creating new features improved the baseline model performances significantly especially for Logistic Regression and Gradient Boosting"
   ]
  },
  {
   "cell_type": "markdown",
   "metadata": {},
   "source": [
    "### Execute the below celss only to tune the parameters\n",
    "### Note: Will take a long time to execute"
   ]
  },
  {
   "cell_type": "markdown",
   "metadata": {},
   "source": [
    "## Parameter Tuning using 5 Fold CV"
   ]
  },
  {
   "cell_type": "code",
   "execution_count": 72,
   "metadata": {},
   "outputs": [],
   "source": [
    "class param_tuning:\n",
    "    def glm_tuning(self,x_train,y_train):\n",
    "        lambda_vals = [0.001,0.01,0.1,1,10,100,1000,10000,100000,1000000,10000000,100000000]\n",
    "        #lambda_vals = [1000,10000,100000,1000000,10000000,100000000,1000000000,10000000000]\n",
    "        lambda_vals1 = np.reciprocal(lambda_vals)\n",
    "        acc_table = pd.DataFrame(columns = ['lambda_vals','CV_AUC'])\n",
    "        acc_table['lambda_vals'] = lambda_vals\n",
    "\n",
    "        j=0\n",
    "        for i in lambda_vals1:\n",
    "            avg = 0\n",
    "            for a,b in skf.split(x_train,y_train):\n",
    "                trn_x, trn_y = x_train.iloc[a], y_train[0].iloc[a]\n",
    "                val_x, val_y = x_train.iloc[b], y_train[0].iloc[b]\n",
    "                lr = LogisticRegression(penalty = 'l1', C = i,random_state=20)\n",
    "                lr.fit(trn_x,trn_y)\n",
    "                test_pred = lr.predict_proba(val_x)[:,1]\n",
    "                avg+=roc_auc_score(val_y, test_pred)\n",
    "\n",
    "            avg1 = avg/5.0\n",
    "            acc_table.iloc[j,1] = avg1\n",
    "            j = j+1\n",
    "        \n",
    "        acc_table = acc_table.sort_index(by=['CV_AUC'], ascending=[False])\n",
    "        #id_max = acc_table['CV_AUC'].argmax()\n",
    "        print(\"The best C value (Inverse of Lambda) for GLM is {}\".format(1/acc_table.iloc[0,0]))\n",
    "        #return(acc_table)\n",
    "    \n",
    "    def knn_tuning(self,x_train,y_train):\n",
    "        k_range = list(range(1, 31))\n",
    "        param_grid = dict(n_neighbors=k_range)\n",
    "        knn = KNeighborsClassifier()\n",
    "        grid = GridSearchCV(knn, param_grid, cv=5, scoring='roc_auc')\n",
    "        grid.fit(x_train,y_train)\n",
    "        print(grid.best_params_)\n",
    "    \n",
    "    def rf_tuning(self,x_train,y_train):\n",
    "        param_grid = { \n",
    "            'n_estimators': [400,500,600,700],\n",
    "            'max_features': ['auto', 'sqrt', 'log2'],\n",
    "            'max_depth' : [7,8,10,20],\n",
    "            'criterion' :['gini', 'entropy']\n",
    "                     }\n",
    "        rfc = RandomForestClassifier(random_state=20)\n",
    "        CV_rfc = GridSearchCV(estimator=rfc, param_grid=param_grid, cv= 3)\n",
    "        CV_rfc.fit(x_train, y_train)\n",
    "        print(CV_rfc.best_params_)\n",
    "    \n",
    "    def gbm_tuning(self,x_train,y_train):\n",
    "        parameters = {\n",
    "                    \"learning_rate\": [0.05, 0.1, 0.2],\n",
    "                   # \"learning_rate\": [0.2],\n",
    "                    #\"min_samples_split\": np.linspace(0.1, 0.5, 12),\n",
    "                  #  \"min_samples_leaf\": [0.1,0.2,0.3,0.4,0.5], #np.linspace(0.1, 0.5, 12),\n",
    "                    \"max_depth\":[7,8,10,20],\n",
    "                    #\"max_depth\":[8],\n",
    "                    #\"max_features\":[\"log2\",\"sqrt\"],\n",
    "                    #\"scoring\": [\"roc_auc\"],\n",
    "                   #\"subsample\":[0.5, 0.618, 0.8, 0.85, 0.9, 0.95, 1.0],\n",
    "                    \"n_estimators\":[400,500,600,700]\n",
    "                    #\"n_estimators\":[500]\n",
    "                    }\n",
    "\n",
    "        clf_gb = GridSearchCV(GradientBoostingClassifier(), parameters, cv=3)\n",
    "        clf_gb.fit(x_train,y_train)\n",
    "        print(clf_gb.best_params_)"
   ]
  },
  {
   "cell_type": "code",
   "execution_count": 44,
   "metadata": {},
   "outputs": [
    {
     "name": "stdout",
     "output_type": "stream",
     "text": [
      "The best C value (Inverse of Lambda) for GLM is 0.001\n"
     ]
    }
   ],
   "source": [
    "skf = StratifiedKFold(n_splits=5)\n",
    "tuning = param_tuning()\n",
    "tuning.glm_tuning(x_train,y_train)"
   ]
  },
  {
   "cell_type": "code",
   "execution_count": 42,
   "metadata": {},
   "outputs": [
    {
     "name": "stdout",
     "output_type": "stream",
     "text": [
      "{'criterion': 'gini', 'max_depth': 20, 'max_features': 'auto', 'n_estimators': 600}\n"
     ]
    }
   ],
   "source": [
    "tuning.rf_tuning(x_train,y_train)"
   ]
  },
  {
   "cell_type": "code",
   "execution_count": 43,
   "metadata": {},
   "outputs": [
    {
     "name": "stdout",
     "output_type": "stream",
     "text": [
      "{'learning_rate': 0.1, 'max_depth': 8, 'n_estimators': 500}\n"
     ]
    }
   ],
   "source": [
    "tuning.gbm_tuning(x_train,y_train)"
   ]
  },
  {
   "cell_type": "code",
   "execution_count": 75,
   "metadata": {},
   "outputs": [
    {
     "name": "stdout",
     "output_type": "stream",
     "text": [
      "{'n_neighbors': 6}\n"
     ]
    }
   ],
   "source": [
    "tuning = param_tuning()\n",
    "tuning.knn_tuning(x_train,y_train)"
   ]
  },
  {
   "cell_type": "markdown",
   "metadata": {},
   "source": [
    "## Running the models on the tuned parameters"
   ]
  },
  {
   "cell_type": "code",
   "execution_count": 127,
   "metadata": {},
   "outputs": [],
   "source": [
    "class tuned_models:\n",
    "    \n",
    "    def logistic_regression(self,x_train,y_train,x_test,y_test,x_val,y_val):\n",
    "        lr = LogisticRegression(penalty = 'l2', C = 0.001,random_state=20)\n",
    "        #lr = LogisticRegression(penalty = 'l1', C = 0.001,random_state=20)\n",
    "        lr.fit(x_train,y_train)\n",
    "        train_pred = lr.predict_proba(x_train)[:,1]\n",
    "        test_pred = lr.predict_proba(x_test)[:,1]\n",
    "        val_pred = lr.predict_proba(x_val)[:,1]\n",
    "        test_pred1 = lr.predict(x_test)\n",
    "        print(\"Logistic Regression:\")\n",
    "        print(\"Test AUC-ROC value is {}\".format(roc_auc_score(y_test, test_pred)))\n",
    "        print(\"Test Accuracy is {}\".format(accuracy_score(y_test,test_pred1)))\n",
    "        print(\"\\n\")\n",
    "        return(test_pred,val_pred)\n",
    "    \n",
    "    def knn(self,x_train,y_train,x_test,y_test,x_val,y_val):\n",
    "        neigh = KNeighborsClassifier(n_neighbors=6)\n",
    "        neigh.fit(x_train, y_train)\n",
    "        train_pred = neigh.predict_proba(x_train)[:,1]\n",
    "        test_pred1 = neigh.predict(x_test)\n",
    "        test_pred = neigh.predict_proba(x_test)[:,1]\n",
    "        val_pred = neigh.predict_proba(x_val)[:,1]\n",
    "        print(\"K Nearest Neighbour Classifier:\")\n",
    "        print(\"Test AUC-ROC value is {}\".format(roc_auc_score(y_test, test_pred)))\n",
    "        print(\"Test Accuracy is {}\".format(accuracy_score(y_test,test_pred1)))\n",
    "        print(\"\\n\")\n",
    "        return(test_pred,val_pred)\n",
    "            \n",
    "    \n",
    "    def random_forest(self,x_train,y_train,x_test,y_test,x_val,y_val):\n",
    "\n",
    "        cf_rf = RandomForestClassifier(max_features='auto', n_estimators= 600, max_depth=20, criterion='gini',random_state=20)\n",
    "        cf_rf.fit(x_train,y_train)\n",
    "        train_pred = cf_rf.predict_proba(x_train)[:,1]\n",
    "        test_pred = cf_rf.predict_proba(x_test)[:,1]\n",
    "        test_pred1 = cf_rf.predict(x_test)\n",
    "        val_pred = cf_rf.predict_proba(x_val)[:,1]\n",
    "        features = x_train.columns#[1:10]\n",
    "        importances = cf_rf.feature_importances_#[1:10]\n",
    "        indices = np.argsort(importances)\n",
    "        imp_table = pd.DataFrame(columns = ['Feature','Value'])\n",
    "        imp_table['Feature'] = x_train.columns\n",
    "        imp_table['Value'] = cf_rf.feature_importances_\n",
    "        #plt.title('Feature Importance for Random Forest')\n",
    "        #plt.barh(range(len(indices)), importances[indices], color='b', align='center')\n",
    "        #plt.yticks(range(len(indices)), [features[i] for i in indices])\n",
    "        #plt.xlabel('Relative Importance')\n",
    "        feat_imp = pd.Series(cf_rf.feature_importances_, features).sort_values(ascending=False)\n",
    "        feat_imp = feat_imp[0:10]\n",
    "        feat_imp.plot(kind='bar', title='Feature Importances')\n",
    "        plt.ylabel('Feature Importance Score')\n",
    "        \n",
    "        plt.show()\n",
    "        \n",
    "        print(\"Random Forest Classifier:\")\n",
    "        print(\"Test AUC-ROC value is {}\".format(roc_auc_score(y_test, test_pred)))\n",
    "        print(\"Test Accuracy is {}\".format(accuracy_score(y_test,test_pred1)))\n",
    "        print(\"\\n\")\n",
    "        return(test_pred,val_pred,imp_table)\n",
    "        \n",
    "    def boosting_model(self,x_train,y_train,x_test,y_test,x_val,y_val):\n",
    "\n",
    "        cf_gb = GradientBoostingClassifier(learning_rate=0.1,max_depth=8,n_estimators=500,random_state=20)\n",
    "        cf_gb.fit(x_train,y_train)\n",
    "        train_pred = cf_gb.predict_proba(x_train)[:,1]\n",
    "        test_pred = cf_gb.predict_proba(x_test)[:,1]\n",
    "        test_pred1 = cf_gb.predict(x_test)\n",
    "        val_pred = cf_gb.predict_proba(x_val)[:,1]\n",
    "        features = x_train.columns#[1:10]\n",
    "        importances = cf_gb.feature_importances_#[1:10]\n",
    "        indices = np.argsort(importances)\n",
    "        imp_table = pd.DataFrame(columns = ['Feature','Value'])\n",
    "        imp_table['Feature'] = x_train.columns\n",
    "        imp_table['Value'] = cf_gb.feature_importances_\n",
    "        #plt.title('Feature Importance for Gradient Boosting')\n",
    "        #plt.barh(range(len(indices)), importances[indices], color='b', align='center')\n",
    "        #plt.yticks(range(len(indices)), [features[i] for i in indices])\n",
    "        #plt.xlabel('Relative Importance')\n",
    "        feat_imp = pd.Series(cf_gb.feature_importances_, features).sort_values(ascending=False)\n",
    "        feat_imp = feat_imp[0:10]\n",
    "        feat_imp.plot(kind='bar', title='Feature Importances')\n",
    "        plt.ylabel('Feature Importance Score')\n",
    "        plt.show()\n",
    "        print(\"Gradient Boosting Model:\")\n",
    "        print(\"Test AUC-ROC value is {}\".format(roc_auc_score(y_test, test_pred)))\n",
    "        print(\"Test Accuracy is {}\".format(accuracy_score(y_test,test_pred1)))\n",
    "        print(\"\\n\")\n",
    "        return(test_pred,val_pred,imp_table)\n",
    "\n"
   ]
  },
  {
   "cell_type": "markdown",
   "metadata": {},
   "source": [
    "#### Splitting the train data into 90-10 for storing validation results which can be used for stacking"
   ]
  },
  {
   "cell_type": "code",
   "execution_count": 128,
   "metadata": {},
   "outputs": [],
   "source": [
    "tuned1 = tuned_models()\n",
    "x_train1, x_val, y_train1, y_val = train_test_split(x_train,y_train,stratify=y_train,test_size=0.1,random_state=20)"
   ]
  },
  {
   "cell_type": "code",
   "execution_count": 129,
   "metadata": {
    "scrolled": true
   },
   "outputs": [
    {
     "name": "stdout",
     "output_type": "stream",
     "text": [
      "Logistic Regression:\n",
      "Test AUC-ROC value is 0.6281555555555556\n",
      "Test Accuracy is 0.5816666666666667\n",
      "\n",
      "\n"
     ]
    },
    {
     "data": {
      "image/png": "[encoded data removed]",
      "text/plain": [
       "<matplotlib.figure.Figure at 0x17e82f61cc0>"
      ]
     },
     "metadata": {
      "needs_background": "light"
     },
     "output_type": "display_data"
    },
    {
     "name": "stdout",
     "output_type": "stream",
     "text": [
      "Random Forest Classifier:\n",
      "Test AUC-ROC value is 0.95885\n",
      "Test Accuracy is 0.8883333333333333\n",
      "\n",
      "\n",
      "K Nearest Neighbour Classifier:\n",
      "Test AUC-ROC value is 0.9631833333333333\n",
      "Test Accuracy is 0.9066666666666666\n",
      "\n",
      "\n"
     ]
    },
    {
     "data": {
      "image/png": "[encoded data removed]",
      "text/plain": [
       "<matplotlib.figure.Figure at 0x17e80d15048>"
      ]
     },
     "metadata": {
      "needs_background": "light"
     },
     "output_type": "display_data"
    },
    {
     "name": "stdout",
     "output_type": "stream",
     "text": [
      "Gradient Boosting Model:\n",
      "Test AUC-ROC value is 0.9545666666666666\n",
      "Test Accuracy is 0.8933333333333333\n",
      "\n",
      "\n"
     ]
    }
   ],
   "source": [
    "val_table = pd.DataFrame(columns = ['Actuals','glm','knn','rf','gbm'])\n",
    "val_table['Actuals'] = y_val[0]\n",
    "test_table = pd.DataFrame(columns = ['Actuals','glm','knn','rf','gbm'])\n",
    "test_table['Actuals'] = y_test[0]\n",
    "\n",
    "test_table['glm'],val_table['glm'] = tuned1.logistic_regression(x_train1,y_train1,x_test,y_test,x_val,y_val)\n",
    "test_table['rf'],val_table['rf'],imp_table1 = tuned1.random_forest(x_train1,y_train1,x_test,y_test,x_val,y_val)\n",
    "test_table['knn'],val_table['knn'] = tuned1.knn(x_train1,y_train1,x_test,y_test,x_val,y_val)\n",
    "test_table['gbm'],val_table['gbm'],imp_table = tuned1.boosting_model(x_train1,y_train1,x_test,y_test,x_val,y_val)\n"
   ]
  },
  {
   "cell_type": "markdown",
   "metadata": {},
   "source": [
    "    Note: \n",
    "    1. We can notice that after parameter tuning, all of the models are performing better when compared to it's corresponding baseline models\n",
    "    2. We have saved the results of each model (Validation and Test) to be used for stacking"
   ]
  },
  {
   "cell_type": "markdown",
   "metadata": {},
   "source": [
    "#### Building another model using the entire train set"
   ]
  },
  {
   "cell_type": "code",
   "execution_count": 130,
   "metadata": {
    "scrolled": true
   },
   "outputs": [
    {
     "name": "stdout",
     "output_type": "stream",
     "text": [
      "Logistic Regression:\n",
      "Test AUC-ROC value is 0.627388888888889\n",
      "Test Accuracy is 0.5933333333333334\n",
      "\n",
      "\n",
      "K Nearest Neighbour Classifier:\n",
      "Test AUC-ROC value is 0.9633777777777777\n",
      "Test Accuracy is 0.9083333333333333\n",
      "\n",
      "\n"
     ]
    },
    {
     "data": {
      "image/png": "[encoded data removed]",
      "text/plain": [
       "<matplotlib.figure.Figure at 0x17e80c8f358>"
      ]
     },
     "metadata": {
      "needs_background": "light"
     },
     "output_type": "display_data"
    },
    {
     "name": "stdout",
     "output_type": "stream",
     "text": [
      "Random Forest Classifier:\n",
      "Test AUC-ROC value is 0.9589555555555556\n",
      "Test Accuracy is 0.89\n",
      "\n",
      "\n"
     ]
    },
    {
     "data": {
      "image/png": "[encoded data removed]",
      "text/plain": [
       "<matplotlib.figure.Figure at 0x17e80a36518>"
      ]
     },
     "metadata": {
      "needs_background": "light"
     },
     "output_type": "display_data"
    },
    {
     "name": "stdout",
     "output_type": "stream",
     "text": [
      "Gradient Boosting Model:\n",
      "Test AUC-ROC value is 0.9541555555555555\n",
      "Test Accuracy is 0.8816666666666667\n",
      "\n",
      "\n"
     ]
    }
   ],
   "source": [
    "tuned1 = tuned_models()\n",
    "x_val,y_val = x_train,y_train\n",
    "test_pred_glm,val_pred_glm = tuned1.logistic_regression(x_train,y_train,x_test,y_test,x_val,y_val)\n",
    "test_pred_knn,val_pred_knn = tuned1.knn(x_train,y_train,x_test,y_test,x_val,y_val)\n",
    "test_pred_rf,val_pred_rf,imp_table1 = tuned1.random_forest(x_train,y_train,x_test,y_test,x_val,y_val)\n",
    "test_pred_gbm,val_pred_gbm,imp_table = tuned1.boosting_model(x_train,y_train,x_test,y_test,x_val,y_val)"
   ]
  },
  {
   "cell_type": "markdown",
   "metadata": {},
   "source": [
    "Note: We can see that all our model performances have improved"
   ]
  },
  {
   "cell_type": "markdown",
   "metadata": {},
   "source": [
    "#### Taking ensemble of the above models\n",
    "Note: We ignore Logistic since it has poor accuracy in comparision to other models"
   ]
  },
  {
   "cell_type": "code",
   "execution_count": 131,
   "metadata": {},
   "outputs": [
    {
     "name": "stdout",
     "output_type": "stream",
     "text": [
      "0.9680777777777778\n"
     ]
    }
   ],
   "source": [
    "ensemble = (0.2*test_pred_gbm) + (0.45*test_pred_knn) + (0.35*test_pred_rf)\n",
    "print(roc_auc_score(y_test, ensemble))"
   ]
  },
  {
   "cell_type": "markdown",
   "metadata": {},
   "source": [
    "#### We Perform stacking using the results obtained through using a validation data.\n",
    "    Note:\n",
    "    1. We take the validation results stored in the 'val_table' for each of the 3 models (KNN,Random Forest and GBM) and run a logisitc regression using only these 3 results as the independent variables and predict on the test results stored in the 'test_table'"
   ]
  },
  {
   "cell_type": "code",
   "execution_count": 132,
   "metadata": {},
   "outputs": [
    {
     "name": "stdout",
     "output_type": "stream",
     "text": [
      "0.9695555555555555\n"
     ]
    }
   ],
   "source": [
    "lr = LogisticRegression()\n",
    "lr.fit(val_table.iloc[:,2:],val_table['Actuals'])\n",
    "stack_pred = lr.predict_proba(test_table.iloc[:,2:])[:,1]\n",
    "print(roc_auc_score(test_table['Actuals'], stack_pred))"
   ]
  },
  {
   "cell_type": "markdown",
   "metadata": {},
   "source": [
    "#### Eventually we take an ensemble of the above obtained 2 results"
   ]
  },
  {
   "cell_type": "code",
   "execution_count": 133,
   "metadata": {},
   "outputs": [
    {
     "name": "stdout",
     "output_type": "stream",
     "text": [
      "The obtained AUC score on the test data is :0.97\n"
     ]
    }
   ],
   "source": [
    "best_pred = ((0.15*stack_pred) + (0.85*ensemble))\n",
    "print(\"The obtained AUC score on the test data is :{}\".format(round(roc_auc_score(test_table['Actuals'],best_pred ),2)))"
   ]
  },
  {
   "cell_type": "code",
   "execution_count": 134,
   "metadata": {
    "scrolled": true
   },
   "outputs": [
    {
     "name": "stdout",
     "output_type": "stream",
     "text": [
      "The obtained Accuracy on the test data is :0.9116666666666666\n"
     ]
    }
   ],
   "source": [
    "avg1 = np.where(best_pred<0.65,-1,1)\n",
    "print(\"The obtained Accuracy on the test data is :{}\".format(accuracy_score(y_test,avg1)))"
   ]
  },
  {
   "cell_type": "code",
   "execution_count": 135,
   "metadata": {},
   "outputs": [
    {
     "name": "stdout",
     "output_type": "stream",
     "text": [
      "The obtained confusion matrix on the test data is :\n",
      "\n"
     ]
    },
    {
     "data": {
      "text/html": [
       "<div>\n",
       "<style scoped>\n",
       "    .dataframe tbody tr th:only-of-type {\n",
       "        vertical-align: middle;\n",
       "    }\n",
       "\n",
       "    .dataframe tbody tr th {\n",
       "        vertical-align: top;\n",
       "    }\n",
       "\n",
       "    .dataframe thead th {\n",
       "        text-align: right;\n",
       "    }\n",
       "</style>\n",
       "<table border=\"1\" class=\"dataframe\">\n",
       "  <thead>\n",
       "    <tr style=\"text-align: right;\">\n",
       "      <th>col_0</th>\n",
       "      <th>-1</th>\n",
       "      <th>1</th>\n",
       "    </tr>\n",
       "    <tr>\n",
       "      <th>0</th>\n",
       "      <th></th>\n",
       "      <th></th>\n",
       "    </tr>\n",
       "  </thead>\n",
       "  <tbody>\n",
       "    <tr>\n",
       "      <th>-1</th>\n",
       "      <td>287</td>\n",
       "      <td>13</td>\n",
       "    </tr>\n",
       "    <tr>\n",
       "      <th>1</th>\n",
       "      <td>40</td>\n",
       "      <td>260</td>\n",
       "    </tr>\n",
       "  </tbody>\n",
       "</table>\n",
       "</div>"
      ],
      "text/plain": [
       "col_0   -1    1\n",
       "0              \n",
       "-1     287   13\n",
       " 1      40  260"
      ]
     },
     "execution_count": 135,
     "metadata": {},
     "output_type": "execute_result"
    }
   ],
   "source": [
    "df_confusion = pd.crosstab(y_test[0], avg1)\n",
    "print(\"The obtained confusion matrix on the test data is :\\n\")\n",
    "df_confusion"
   ]
  },
  {
   "cell_type": "code",
   "execution_count": null,
   "metadata": {},
   "outputs": [],
   "source": []
  }
 ],
 "metadata": {
  "kernelspec": {
   "display_name": "Python 3",
   "language": "python",
   "name": "python3"
  },
  "language_info": {
   "codemirror_mode": {
    "name": "ipython",
    "version": 3
   },
   "file_extension": ".py",
   "mimetype": "text/x-python",
   "name": "python",
   "nbconvert_exporter": "python",
   "pygments_lexer": "ipython3",
   "version": "3.6.4"
  }
 },
 "nbformat": 4,
 "nbformat_minor": 2
}
